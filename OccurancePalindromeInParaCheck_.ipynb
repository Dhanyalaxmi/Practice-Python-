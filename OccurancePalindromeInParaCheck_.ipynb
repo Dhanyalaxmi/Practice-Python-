{
  "nbformat": 4,
  "nbformat_minor": 0,
  "metadata": {
    "colab": {
      "name": "OccurancePalindromeInParaCheck .ipynb",
      "provenance": []
    },
    "kernelspec": {
      "name": "python3",
      "display_name": "Python 3"
    },
    "language_info": {
      "name": "python"
    }
  },
  "cells": [
    {
      "cell_type": "markdown",
      "metadata": {
        "id": "lVSSQ5DqHIpF"
      },
      "source": [
        "CONDITION :\n",
        "1) Occurance should be greater than 1\n",
        "2) Case Insensitive\n",
        "3) Len of wword should be greater than 3\n",
        "4) output should be in lower case"
      ]
    },
    {
      "cell_type": "code",
      "metadata": {
        "id": "NZkgQjJ2HFpH"
      },
      "source": [
        "my_para = \"I am a cook , Cook with multiple talent, Cook are great, cook thats me, hello hello hello hello malayalam malayalam malayalam malayalam\""
      ],
      "execution_count": 42,
      "outputs": []
    },
    {
      "cell_type": "code",
      "metadata": {
        "id": "BnhK0UU7HFgO"
      },
      "source": [
        "def chekparapalindrome(para,occ):\n",
        "  if occ > 0 : # Get the count of words from paragraph\n",
        "    input_para = para.lower()\n",
        "    input_para_list = input_para.split()\n",
        "    words_dic = {}\n",
        "    match_word_list= []\n",
        "    for i in input_para_list:\n",
        "      if (len(i) < 4):\n",
        "        input_para_list.remove(i)\n",
        "    for i in input_para_list:\n",
        "      words_dic[i] = 0\n",
        "    for i in input_para_list:\n",
        "      words_dic[i] = words_dic[i] +1   \n",
        "    print(words_dic)\n",
        "    #### Check if the word is palindrome\n",
        "    # get the word from dictionary\n",
        "    for key , values in words_dic.items():\n",
        "      if values == occ:\n",
        "        if key == key[::-1]:\n",
        "          print(f\"{key} is palindrome, Occurance is {occ}\")\n",
        "        else:\n",
        "          print(f\"{key} is not a Palindrome, Occurance is {occ}\")  \n",
        "  else:\n",
        "    print(\"Invalid Input\")  "
      ],
      "execution_count": 45,
      "outputs": []
    },
    {
      "cell_type": "code",
      "metadata": {
        "colab": {
          "base_uri": "https://localhost:8080/"
        },
        "id": "LZ75SR1NHFmI",
        "outputId": "7250097d-e7dc-48d8-c4c9-cc1f620d3f40"
      },
      "source": [
        "chekparapalindrome(my_para,4)"
      ],
      "execution_count": 46,
      "outputs": [
        {
          "output_type": "stream",
          "name": "stdout",
          "text": [
            "{'am': 1, 'cook': 4, 'with': 1, 'multiple': 1, 'talent,': 1, 'great,': 1, 'thats': 1, 'hello': 4, 'malayalam': 4}\n",
            "cook is not a Palindrome, Occurance is 4\n",
            "hello is not a Palindrome, Occurance is 4\n",
            "malayalam is palindrome, Occurance is 4\n"
          ]
        }
      ]
    },
    {
      "cell_type": "code",
      "metadata": {
        "id": "8OGdzBX4Pogl"
      },
      "source": [
        ""
      ],
      "execution_count": null,
      "outputs": []
    }
  ]
}