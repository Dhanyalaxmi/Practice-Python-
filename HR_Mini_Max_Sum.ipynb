{
  "nbformat": 4,
  "nbformat_minor": 0,
  "metadata": {
    "colab": {
      "name": "HR_Mini-Max Sum.ipynb",
      "provenance": []
    },
    "kernelspec": {
      "name": "python3",
      "display_name": "Python 3"
    },
    "language_info": {
      "name": "python"
    }
  },
  "cells": [
    {
      "cell_type": "markdown",
      "metadata": {
        "id": "lVSSQ5DqHIpF"
      },
      "source": [
        "Given five positive integers, find the minimum and maximum values that can be calculated by summing exactly four of the five integers. Then print the respective minimum and maximum values as a single line of two space-separated long integers."
      ]
    },
    {
      "cell_type": "code",
      "metadata": {
        "id": "UQda4p3OmCYg"
      },
      "source": [
        "#arr = [4,5,1,2,87,43,10,30]"
      ],
      "execution_count": 67,
      "outputs": []
    },
    {
      "cell_type": "code",
      "metadata": {
        "id": "BnhK0UU7HFgO"
      },
      "source": [
        "#!/bin/python3\n",
        "\n",
        "import math\n",
        "import os\n",
        "import random\n",
        "import re\n",
        "import sys\n",
        "\n",
        "#\n",
        "# Complete the 'miniMaxSum' function below.\n",
        "#\n",
        "# The function accepts INTEGER_ARRAY arr as parameter.\n",
        "#\n",
        "\n",
        "def miniMaxSum(arr):\n",
        "    for i in range(0,len(arr)):\n",
        "        for j in range(i+1,len(arr)):\n",
        "            if arr[i] > arr[j]:\n",
        "                temp = arr[i]\n",
        "                arr[i] = arr[j]\n",
        "                arr[j] = temp\n",
        "    min = max = 0      \n",
        "    for i in range(len(arr)-1):\n",
        "        min  += arr[i]      \n",
        "    for i in range(1,len(arr)):\n",
        "        max += arr[i]  \n",
        "    print(f\"{min} {max}\")\n",
        "     \n",
        "    \n",
        "if __name__ == '__main__':\n",
        "\n",
        "    arr = list(map(int, input().rstrip().split()))\n",
        "\n",
        "    miniMaxSum(arr)\n"
      ],
      "execution_count": 69,
      "outputs": []
    },
    {
      "cell_type": "code",
      "metadata": {
        "id": "jT2XjmgZmfF8"
      },
      "source": [
        ""
      ],
      "execution_count": null,
      "outputs": []
    }
  ]
}