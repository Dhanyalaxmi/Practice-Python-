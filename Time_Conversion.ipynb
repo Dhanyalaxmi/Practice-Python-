{
  "nbformat": 4,
  "nbformat_minor": 0,
  "metadata": {
    "colab": {
      "name": "Time Conversion.ipynb",
      "provenance": []
    },
    "kernelspec": {
      "name": "python3",
      "display_name": "Python 3"
    },
    "language_info": {
      "name": "python"
    }
  },
  "cells": [
    {
      "cell_type": "markdown",
      "metadata": {
        "id": "f7lEVA27N8Nf"
      },
      "source": [
        "Given a time in 12-hour AM/PM format, convert it to military (24-hour) time.\n",
        "\n",
        "Note: - 12:00:00AM on a 12-hour clock is 00:00:00 on a 24-hour clock.\n",
        "- 12:00:00PM on a 12-hour clock is 12:00:00 on a 24-hour clock."
      ]
    },
    {
      "cell_type": "code",
      "metadata": {
        "id": "zb72zD-iK4Rl"
      },
      "source": [
        "import math\n",
        "import os\n",
        "import random\n",
        "import re\n",
        "import sys"
      ],
      "execution_count": 45,
      "outputs": []
    },
    {
      "cell_type": "code",
      "metadata": {
        "id": "Z-5V8WlJKsNk"
      },
      "source": [
        "\n",
        "def timeConversion(s):\n",
        "    # Write your code here\n",
        "    pmtimedic = {\"01\":\"13\", \"02\":\"14\",\"03\":\"15\",\"04\":\"16\",\"05\":\"17\",\"06\":\"18\",\"07\":\"19\",\"08\":\"20\",\"09\":\"21\",\"10\":\"22\",\"11\":\"23\",\"12\":\"12\"}\n",
        "    splitdata = s.split(\":\")\n",
        "    if (splitdata[2][2:]) == \"PM\":\n",
        "        splitdata[0] = pmtimedic[splitdata[0]]\n",
        "        snew = splitdata[0] + \":\" + splitdata[1] + \":\" +  splitdata[2][:2] \n",
        "    elif (splitdata[2][2:]) == \"AM\":\n",
        "        if splitdata[0] == \"12\":\n",
        "            splitdata[0] = \"00\"\n",
        "        snew = splitdata[0] + \":\" + splitdata[1] + \":\" +  splitdata[2][:2]\n",
        "    return snew\n"
      ],
      "execution_count": 46,
      "outputs": []
    },
    {
      "cell_type": "code",
      "metadata": {
        "colab": {
          "base_uri": "https://localhost:8080/"
        },
        "id": "rcM4savOReNF",
        "outputId": "f6e67530-7da6-4c48-8eb7-a57f9647a137"
      },
      "source": [
        "if __name__ == '__main__':\n",
        "    #fptr = open(os.environ['OUTPUT_PATH'], 'w')\n",
        "\n",
        "    s = input()\n",
        "\n",
        "    result = timeConversion(s)\n",
        "\n",
        "    #fptr.write(result + '\\n')\n",
        "    print(result)\n",
        "    #fptr.close()"
      ],
      "execution_count": 48,
      "outputs": [
        {
          "output_type": "stream",
          "name": "stdout",
          "text": [
            "07:05:45PM\n",
            "19:05:45\n"
          ]
        }
      ]
    },
    {
      "cell_type": "code",
      "metadata": {
        "id": "zhrT5DN0XWJC"
      },
      "source": [
        ""
      ],
      "execution_count": null,
      "outputs": []
    }
  ]
}