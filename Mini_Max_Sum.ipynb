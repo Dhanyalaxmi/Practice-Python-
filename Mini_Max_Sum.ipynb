{
  "nbformat": 4,
  "nbformat_minor": 0,
  "metadata": {
    "colab": {
      "name": "Mini-Max Sum.ipynb",
      "provenance": []
    },
    "kernelspec": {
      "name": "python3",
      "display_name": "Python 3"
    },
    "language_info": {
      "name": "python"
    }
  },
  "cells": [
    {
      "cell_type": "markdown",
      "metadata": {
        "id": "f7lEVA27N8Nf"
      },
      "source": [
        "Given five positive integers, find the minimum and maximum values that can be calculated by summing exactly four of the five integers. Then print the respective minimum and maximum values as a single line of two space-separated long integers."
      ]
    },
    {
      "cell_type": "code",
      "metadata": {
        "id": "zb72zD-iK4Rl"
      },
      "source": [
        "import math\n",
        "import os\n",
        "import random\n",
        "import re\n",
        "import sys\n",
        "from itertools import permutations"
      ],
      "execution_count": 17,
      "outputs": []
    },
    {
      "cell_type": "code",
      "metadata": {
        "id": "Z-5V8WlJKsNk"
      },
      "source": [
        "def miniMaxSum(arr):\n",
        "    # Write your code here\n",
        "    maxsum = 0\n",
        "    sortedarr = sorted(arr)\n",
        "    minsum = sum(sortedarr[:4])\n",
        "    per = permutations(arr,4)\n",
        "    for i in per:\n",
        "        if maxsum < sum(i):\n",
        "            maxsum = sum(i)\n",
        "    print(f\"{minsum} {maxsum}\")\n",
        "\n",
        "\n"
      ],
      "execution_count": 18,
      "outputs": []
    },
    {
      "cell_type": "code",
      "metadata": {
        "colab": {
          "base_uri": "https://localhost:8080/"
        },
        "id": "OCoNnbwPK2K1",
        "outputId": "03a4ff7d-a7a6-4a68-8539-df0cd9445caf"
      },
      "source": [
        "if __name__ == '__main__':\n",
        "\n",
        "    arr = list(map(int, input().rstrip().split()))\n",
        "    \n",
        "    miniMaxSum(arr)"
      ],
      "execution_count": 20,
      "outputs": [
        {
          "output_type": "stream",
          "name": "stdout",
          "text": [
            "1 2 7 3 9\n",
            "13 21\n"
          ]
        }
      ]
    },
    {
      "cell_type": "code",
      "metadata": {
        "id": "kJMeOjdvK-E0"
      },
      "source": [
        ""
      ],
      "execution_count": null,
      "outputs": []
    }
  ]
}