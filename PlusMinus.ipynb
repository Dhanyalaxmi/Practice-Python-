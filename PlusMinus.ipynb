{
  "nbformat": 4,
  "nbformat_minor": 0,
  "metadata": {
    "colab": {
      "name": "PlusMinus.ipynb",
      "provenance": []
    },
    "kernelspec": {
      "name": "python3",
      "display_name": "Python 3"
    },
    "language_info": {
      "name": "python"
    }
  },
  "cells": [
    {
      "cell_type": "markdown",
      "metadata": {
        "id": "lVSSQ5DqHIpF"
      },
      "source": [
        "Given an array of integers, calculate the ratios of its elements that are positive, negative, and zero. Print the decimal value of each fraction on a new line with 6 places after the decimal."
      ]
    },
    {
      "cell_type": "code",
      "metadata": {
        "id": "BnhK0UU7HFgO",
        "colab": {
          "base_uri": "https://localhost:8080/"
        },
        "outputId": "b01c32ae-9a9c-4a09-fa9f-b726c7a744e7"
      },
      "source": [
        "#!/bin/python3\n",
        "\n",
        "import math\n",
        "import os\n",
        "import random\n",
        "import re\n",
        "import sys\n",
        "\n",
        "#\n",
        "# Complete the 'plusMinus' function below.\n",
        "#\n",
        "# The function accepts INTEGER_ARRAY arr as parameter.\n",
        "#\n",
        "\n",
        "def plusMinus(arr):\n",
        "    # Write your code here\n",
        "    count_min = count_post = count_zero = 0\n",
        "    for i in arr:\n",
        "        if i < 0 :\n",
        "            count_min += 1\n",
        "        elif i > 0 :\n",
        "            count_post += 1\n",
        "        elif i == 0 :\n",
        "            count_zero += 1\n",
        "    print(round(count_post/len(arr), 6))  \n",
        "    print(round(count_min/len(arr),6))\n",
        "    print(round(count_zero/len(arr),6))              \n",
        "\n",
        "if __name__ == '__main__':\n",
        "    n = int(input().strip())\n",
        "\n",
        "    arr = list(map(int, input().rstrip().split()))\n",
        "\n",
        "    plusMinus(arr)\n"
      ],
      "execution_count": 49,
      "outputs": [
        {
          "output_type": "stream",
          "name": "stdout",
          "text": [
            "5\n",
            "-1 -2 0 3 3\n",
            "0.4\n",
            "0.4\n",
            "0.2\n"
          ]
        }
      ]
    }
  ]
}