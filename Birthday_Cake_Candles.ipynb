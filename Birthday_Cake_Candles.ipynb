{
  "nbformat": 4,
  "nbformat_minor": 0,
  "metadata": {
    "colab": {
      "name": "Birthday Cake Candles.ipynb",
      "provenance": []
    },
    "kernelspec": {
      "name": "python3",
      "display_name": "Python 3"
    },
    "language_info": {
      "name": "python"
    }
  },
  "cells": [
    {
      "cell_type": "markdown",
      "metadata": {
        "id": "f7lEVA27N8Nf"
      },
      "source": [
        "You are in charge of the cake for a child's birthday. You have decided the cake will have one candle for each year of their total age. They will only be able to blow out the tallest of the candles. Count how many candles are tallest."
      ]
    },
    {
      "cell_type": "code",
      "metadata": {
        "id": "zb72zD-iK4Rl"
      },
      "source": [
        "import math\n",
        "import os\n",
        "import random\n",
        "import re\n",
        "import sys\n"
      ],
      "execution_count": 23,
      "outputs": []
    },
    {
      "cell_type": "code",
      "metadata": {
        "id": "Z-5V8WlJKsNk"
      },
      "source": [
        " #The function is expected to return an INTEGER.\n",
        "# The function accepts INTEGER_ARRAY candles as parameter.\n",
        "#\n",
        "\n",
        "def birthdayCakeCandles(candles):\n",
        "    # Write your code here\n",
        "    sortlist = sorted(candles)[::-1]\n",
        "    count = 0 \n",
        "    for i in range(len(sortlist)):\n",
        "        if sortlist[1] == sortlist[i]:\n",
        "            count +=1\n",
        "        else:\n",
        "            break    \n",
        "    return(count)"
      ],
      "execution_count": 24,
      "outputs": []
    },
    {
      "cell_type": "code",
      "metadata": {
        "colab": {
          "base_uri": "https://localhost:8080/"
        },
        "id": "OCoNnbwPK2K1",
        "outputId": "129d355d-bb4e-4256-bda5-1468e1dc2731"
      },
      "source": [
        "if __name__ == '__main__':\n",
        "    #fptr = open(os.environ['OUTPUT_PATH'], 'w')\n",
        "\n",
        "    candles_count = int(input().strip())\n",
        "\n",
        "    candles = list(map(int, input().rstrip().split()))\n",
        "\n",
        "    result = birthdayCakeCandles(candles)\n",
        "\n",
        "    #fptr.write(str(result) + '\\n')\n",
        "    print(result)\n",
        "\n",
        "    #fptr.close()\n"
      ],
      "execution_count": 26,
      "outputs": [
        {
          "output_type": "stream",
          "name": "stdout",
          "text": [
            "5\n",
            "1 4 2 3 4\n",
            "2\n"
          ]
        }
      ]
    }
  ]
}